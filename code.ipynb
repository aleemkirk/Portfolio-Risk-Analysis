{
 "cells": [
  {
   "cell_type": "code",
   "execution_count": 1,
   "metadata": {},
   "outputs": [],
   "source": [
    "import pandas as pd\n",
    "import matplotlib.pyplot as plt\n"
   ]
  },
  {
   "cell_type": "code",
   "execution_count": 2,
   "metadata": {},
   "outputs": [],
   "source": [
    "#path to data\n",
    "path = 'data/'"
   ]
  },
  {
   "cell_type": "code",
   "execution_count": 24,
   "metadata": {},
   "outputs": [],
   "source": [
    "#stocks to assess in the portfolio analysis\n",
    "stocks = ['AAPL', 'TSLA', 'GOOGL', 'NVDA', 'ZI', 'AMGN', 'INTC']"
   ]
  },
  {
   "cell_type": "code",
   "execution_count": 25,
   "metadata": {},
   "outputs": [
    {
     "name": "stdout",
     "output_type": "stream",
     "text": [
      "(11019, 6)\n",
      "(3566, 6)\n",
      "(5040, 6)\n",
      "(6441, 6)\n",
      "(1065, 6)\n",
      "(10384, 6)\n",
      "(13265, 6)\n"
     ]
    }
   ],
   "source": [
    "df = pd.DataFrame(columns=['date'])\n",
    "\n",
    "for ticker in stocks:\n",
    "    data = pd.read_csv(path+ticker+'.csv')\n",
    "    print(data.shape)\n",
    "    df = pd.merge(df, data[['date', 'close']], on='date', how='outer', suffixes=(ticker, ticker))\n",
    "\n",
    "#rename column names with Ticker values\n",
    "df.columns = ['date'] + [i for i in stocks]\n"
   ]
  },
  {
   "cell_type": "code",
   "execution_count": 32,
   "metadata": {},
   "outputs": [],
   "source": [
    "df['date'] = pd.to_datetime(df['date'])\n",
    "df = df.sort_values(by='date')\n",
    "\n",
    "# Reset the index\n",
    "df.reset_index(drop=True, inplace=True)"
   ]
  },
  {
   "cell_type": "code",
   "execution_count": 34,
   "metadata": {},
   "outputs": [
    {
     "data": {
      "text/html": [
       "<div>\n",
       "<style scoped>\n",
       "    .dataframe tbody tr th:only-of-type {\n",
       "        vertical-align: middle;\n",
       "    }\n",
       "\n",
       "    .dataframe tbody tr th {\n",
       "        vertical-align: top;\n",
       "    }\n",
       "\n",
       "    .dataframe thead th {\n",
       "        text-align: right;\n",
       "    }\n",
       "</style>\n",
       "<table border=\"1\" class=\"dataframe\">\n",
       "  <thead>\n",
       "    <tr style=\"text-align: right;\">\n",
       "      <th></th>\n",
       "      <th>date</th>\n",
       "      <th>AAPL</th>\n",
       "      <th>TSLA</th>\n",
       "      <th>GOOGL</th>\n",
       "      <th>NVDA</th>\n",
       "      <th>ZI</th>\n",
       "      <th>AMGN</th>\n",
       "      <th>INTC</th>\n",
       "    </tr>\n",
       "  </thead>\n",
       "  <tbody>\n",
       "    <tr>\n",
       "      <th>0</th>\n",
       "      <td>1972-01-07</td>\n",
       "      <td>NaN</td>\n",
       "      <td>NaN</td>\n",
       "      <td>NaN</td>\n",
       "      <td>NaN</td>\n",
       "      <td>NaN</td>\n",
       "      <td>NaN</td>\n",
       "      <td>0.013861</td>\n",
       "    </tr>\n",
       "    <tr>\n",
       "      <th>1</th>\n",
       "      <td>1972-01-14</td>\n",
       "      <td>NaN</td>\n",
       "      <td>NaN</td>\n",
       "      <td>NaN</td>\n",
       "      <td>NaN</td>\n",
       "      <td>NaN</td>\n",
       "      <td>NaN</td>\n",
       "      <td>0.006887</td>\n",
       "    </tr>\n",
       "    <tr>\n",
       "      <th>2</th>\n",
       "      <td>1972-01-21</td>\n",
       "      <td>NaN</td>\n",
       "      <td>NaN</td>\n",
       "      <td>NaN</td>\n",
       "      <td>NaN</td>\n",
       "      <td>NaN</td>\n",
       "      <td>NaN</td>\n",
       "      <td>0.006887</td>\n",
       "    </tr>\n",
       "    <tr>\n",
       "      <th>3</th>\n",
       "      <td>1972-01-24</td>\n",
       "      <td>NaN</td>\n",
       "      <td>NaN</td>\n",
       "      <td>NaN</td>\n",
       "      <td>NaN</td>\n",
       "      <td>NaN</td>\n",
       "      <td>NaN</td>\n",
       "      <td>0.006887</td>\n",
       "    </tr>\n",
       "    <tr>\n",
       "      <th>4</th>\n",
       "      <td>1972-01-25</td>\n",
       "      <td>NaN</td>\n",
       "      <td>NaN</td>\n",
       "      <td>NaN</td>\n",
       "      <td>NaN</td>\n",
       "      <td>NaN</td>\n",
       "      <td>NaN</td>\n",
       "      <td>0.006887</td>\n",
       "    </tr>\n",
       "    <tr>\n",
       "      <th>...</th>\n",
       "      <td>...</td>\n",
       "      <td>...</td>\n",
       "      <td>...</td>\n",
       "      <td>...</td>\n",
       "      <td>...</td>\n",
       "      <td>...</td>\n",
       "      <td>...</td>\n",
       "      <td>...</td>\n",
       "    </tr>\n",
       "    <tr>\n",
       "      <th>13260</th>\n",
       "      <td>2024-08-21</td>\n",
       "      <td>226.40</td>\n",
       "      <td>223.270</td>\n",
       "      <td>165.85</td>\n",
       "      <td>128.500</td>\n",
       "      <td>9.69</td>\n",
       "      <td>329.15</td>\n",
       "      <td>21.410000</td>\n",
       "    </tr>\n",
       "    <tr>\n",
       "      <th>13261</th>\n",
       "      <td>2024-08-22</td>\n",
       "      <td>224.53</td>\n",
       "      <td>210.660</td>\n",
       "      <td>163.82</td>\n",
       "      <td>123.795</td>\n",
       "      <td>9.52</td>\n",
       "      <td>324.72</td>\n",
       "      <td>20.120000</td>\n",
       "    </tr>\n",
       "    <tr>\n",
       "      <th>13262</th>\n",
       "      <td>2024-08-23</td>\n",
       "      <td>226.84</td>\n",
       "      <td>220.320</td>\n",
       "      <td>165.62</td>\n",
       "      <td>129.283</td>\n",
       "      <td>9.72</td>\n",
       "      <td>328.80</td>\n",
       "      <td>20.540000</td>\n",
       "    </tr>\n",
       "    <tr>\n",
       "      <th>13263</th>\n",
       "      <td>2024-08-26</td>\n",
       "      <td>227.22</td>\n",
       "      <td>213.235</td>\n",
       "      <td>166.16</td>\n",
       "      <td>126.450</td>\n",
       "      <td>9.80</td>\n",
       "      <td>326.90</td>\n",
       "      <td>20.140000</td>\n",
       "    </tr>\n",
       "    <tr>\n",
       "      <th>13264</th>\n",
       "      <td>2024-08-27</td>\n",
       "      <td>228.03</td>\n",
       "      <td>209.210</td>\n",
       "      <td>164.68</td>\n",
       "      <td>128.300</td>\n",
       "      <td>9.77</td>\n",
       "      <td>326.93</td>\n",
       "      <td>20.070000</td>\n",
       "    </tr>\n",
       "  </tbody>\n",
       "</table>\n",
       "<p>13265 rows × 8 columns</p>\n",
       "</div>"
      ],
      "text/plain": [
       "            date    AAPL     TSLA   GOOGL     NVDA    ZI    AMGN       INTC\n",
       "0     1972-01-07     NaN      NaN     NaN      NaN   NaN     NaN   0.013861\n",
       "1     1972-01-14     NaN      NaN     NaN      NaN   NaN     NaN   0.006887\n",
       "2     1972-01-21     NaN      NaN     NaN      NaN   NaN     NaN   0.006887\n",
       "3     1972-01-24     NaN      NaN     NaN      NaN   NaN     NaN   0.006887\n",
       "4     1972-01-25     NaN      NaN     NaN      NaN   NaN     NaN   0.006887\n",
       "...          ...     ...      ...     ...      ...   ...     ...        ...\n",
       "13260 2024-08-21  226.40  223.270  165.85  128.500  9.69  329.15  21.410000\n",
       "13261 2024-08-22  224.53  210.660  163.82  123.795  9.52  324.72  20.120000\n",
       "13262 2024-08-23  226.84  220.320  165.62  129.283  9.72  328.80  20.540000\n",
       "13263 2024-08-26  227.22  213.235  166.16  126.450  9.80  326.90  20.140000\n",
       "13264 2024-08-27  228.03  209.210  164.68  128.300  9.77  326.93  20.070000\n",
       "\n",
       "[13265 rows x 8 columns]"
      ]
     },
     "execution_count": 34,
     "metadata": {},
     "output_type": "execute_result"
    }
   ],
   "source": [
    "df"
   ]
  },
  {
   "cell_type": "code",
   "execution_count": 35,
   "metadata": {},
   "outputs": [
    {
     "data": {
      "text/plain": [
       "<Axes: >"
      ]
     },
     "execution_count": 35,
     "metadata": {},
     "output_type": "execute_result"
    },
    {
     "data": {
      "image/png": "[encoded data removed]",
      "text/plain": [
       "<Figure size 640x480 with 1 Axes>"
      ]
     },
     "metadata": {},
     "output_type": "display_data"
    }
   ],
   "source": [
    "df[stocks].plot()"
   ]
  },
  {
   "cell_type": "code",
   "execution_count": null,
   "metadata": {},
   "outputs": [],
   "source": []
  }
 ],
 "metadata": {
  "kernelspec": {
   "display_name": "finance",
   "language": "python",
   "name": "python3"
  },
  "language_info": {
   "codemirror_mode": {
    "name": "ipython",
    "version": 3
   },
   "file_extension": ".py",
   "mimetype": "text/x-python",
   "name": "python",
   "nbconvert_exporter": "python",
   "pygments_lexer": "ipython3",
   "version": "3.12.7"
  },
  "orig_nbformat": 4
 },
 "nbformat": 4,
 "nbformat_minor": 2
}
