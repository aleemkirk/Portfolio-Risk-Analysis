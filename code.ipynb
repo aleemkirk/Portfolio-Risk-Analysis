{
 "cells": [
  {
   "cell_type": "code",
   "execution_count": 1,
   "metadata": {},
   "outputs": [],
   "source": [
    "import pandas as pd\n",
    "import matplotlib.pyplot as plt\n"
   ]
  },
  {
   "cell_type": "code",
   "execution_count": 2,
   "metadata": {},
   "outputs": [],
   "source": [
    "#path to data\n",
    "path = 'data/'\n",
    "start_date = '2014-10-08'\n",
    "end_date = '2024-08-27'"
   ]
  },
  {
   "cell_type": "code",
   "execution_count": 3,
   "metadata": {},
   "outputs": [],
   "source": [
    "#portfolio to assess in the portfolio analysis\n",
    "market = 'NASDAQ_COMP'\n",
    "portfolio = ['AAPL', 'TSLA', 'GOOGL', 'MSFT', 'AMGN', 'INTC', market]"
   ]
  },
  {
   "cell_type": "code",
   "execution_count": 4,
   "metadata": {},
   "outputs": [
    {
     "name": "stdout",
     "output_type": "stream",
     "text": [
      "(11019, 6)\n",
      "(3566, 6)\n",
      "(5040, 6)\n",
      "(9692, 6)\n",
      "(10384, 6)\n",
      "(13265, 6)\n",
      "(2527, 6)\n"
     ]
    }
   ],
   "source": [
    "df = pd.DataFrame(columns=['date'])\n",
    "\n",
    "for ticker in portfolio:\n",
    "    data = pd.read_csv(path+ticker+'.csv')\n",
    "    print(data.shape)\n",
    "    df = pd.merge(df, data[['date', 'close']], on='date', how='outer', suffixes=(ticker, ticker))\n",
    "\n",
    "#rename column names with Ticker values\n",
    "df.columns = ['date'] + [i for i in portfolio]\n"
   ]
  },
  {
   "cell_type": "code",
   "execution_count": 5,
   "metadata": {},
   "outputs": [],
   "source": [
    "#convert dates to datetime\n",
    "df['date'] = pd.to_datetime(df['date'])\n",
    "\n",
    "#sort dates\n",
    "df = df.sort_values(by='date')\n",
    "\n",
    "# Reset the index\n",
    "df.reset_index(drop=True, inplace=True)\n",
    "\n",
    "#drop any rows with NaNs\n",
    "#df = df.dropna()\n",
    "\n",
    "#filter data from start and end dates\n",
    "df = df[(df['date'] >= start_date) & (df['date'] <= end_date)]"
   ]
  },
  {
   "cell_type": "code",
   "execution_count": 6,
   "metadata": {},
   "outputs": [
    {
     "data": {
      "text/html": [
       "<div>\n",
       "<style scoped>\n",
       "    .dataframe tbody tr th:only-of-type {\n",
       "        vertical-align: middle;\n",
       "    }\n",
       "\n",
       "    .dataframe tbody tr th {\n",
       "        vertical-align: top;\n",
       "    }\n",
       "\n",
       "    .dataframe thead th {\n",
       "        text-align: right;\n",
       "    }\n",
       "</style>\n",
       "<table border=\"1\" class=\"dataframe\">\n",
       "  <thead>\n",
       "    <tr style=\"text-align: right;\">\n",
       "      <th></th>\n",
       "      <th>date</th>\n",
       "      <th>AAPL</th>\n",
       "      <th>TSLA</th>\n",
       "      <th>GOOGL</th>\n",
       "      <th>MSFT</th>\n",
       "      <th>AMGN</th>\n",
       "      <th>INTC</th>\n",
       "      <th>NASDAQ_COMP</th>\n",
       "    </tr>\n",
       "  </thead>\n",
       "  <tbody>\n",
       "    <tr>\n",
       "      <th>10777</th>\n",
       "      <td>2014-10-08</td>\n",
       "      <td>22.5851</td>\n",
       "      <td>17.2853</td>\n",
       "      <td>29.1870</td>\n",
       "      <td>40.5723</td>\n",
       "      <td>111.848</td>\n",
       "      <td>27.0889</td>\n",
       "      <td>4468.59</td>\n",
       "    </tr>\n",
       "    <tr>\n",
       "      <th>10778</th>\n",
       "      <td>2014-10-09</td>\n",
       "      <td>22.6330</td>\n",
       "      <td>17.1340</td>\n",
       "      <td>28.5405</td>\n",
       "      <td>39.7691</td>\n",
       "      <td>109.853</td>\n",
       "      <td>26.5752</td>\n",
       "      <td>4378.34</td>\n",
       "    </tr>\n",
       "    <tr>\n",
       "      <th>10779</th>\n",
       "      <td>2014-10-10</td>\n",
       "      <td>22.5732</td>\n",
       "      <td>15.7940</td>\n",
       "      <td>27.7595</td>\n",
       "      <td>38.1857</td>\n",
       "      <td>109.697</td>\n",
       "      <td>25.2222</td>\n",
       "      <td>4276.24</td>\n",
       "    </tr>\n",
       "    <tr>\n",
       "      <th>10780</th>\n",
       "      <td>2014-10-13</td>\n",
       "      <td>22.3638</td>\n",
       "      <td>14.9727</td>\n",
       "      <td>27.2375</td>\n",
       "      <td>37.8551</td>\n",
       "      <td>106.628</td>\n",
       "      <td>24.8755</td>\n",
       "      <td>4213.66</td>\n",
       "    </tr>\n",
       "    <tr>\n",
       "      <th>10781</th>\n",
       "      <td>2014-10-14</td>\n",
       "      <td>22.1265</td>\n",
       "      <td>15.1373</td>\n",
       "      <td>27.4345</td>\n",
       "      <td>37.9286</td>\n",
       "      <td>105.561</td>\n",
       "      <td>25.4069</td>\n",
       "      <td>4227.17</td>\n",
       "    </tr>\n",
       "    <tr>\n",
       "      <th>...</th>\n",
       "      <td>...</td>\n",
       "      <td>...</td>\n",
       "      <td>...</td>\n",
       "      <td>...</td>\n",
       "      <td>...</td>\n",
       "      <td>...</td>\n",
       "      <td>...</td>\n",
       "      <td>...</td>\n",
       "    </tr>\n",
       "    <tr>\n",
       "      <th>13271</th>\n",
       "      <td>2024-08-21</td>\n",
       "      <td>226.4000</td>\n",
       "      <td>223.2700</td>\n",
       "      <td>165.8500</td>\n",
       "      <td>424.1400</td>\n",
       "      <td>329.150</td>\n",
       "      <td>21.4100</td>\n",
       "      <td>17918.99</td>\n",
       "    </tr>\n",
       "    <tr>\n",
       "      <th>13272</th>\n",
       "      <td>2024-08-22</td>\n",
       "      <td>224.5300</td>\n",
       "      <td>210.6600</td>\n",
       "      <td>163.8200</td>\n",
       "      <td>415.7800</td>\n",
       "      <td>324.720</td>\n",
       "      <td>20.1200</td>\n",
       "      <td>17619.35</td>\n",
       "    </tr>\n",
       "    <tr>\n",
       "      <th>13273</th>\n",
       "      <td>2024-08-23</td>\n",
       "      <td>226.8400</td>\n",
       "      <td>220.3200</td>\n",
       "      <td>165.6200</td>\n",
       "      <td>416.7900</td>\n",
       "      <td>328.800</td>\n",
       "      <td>20.5400</td>\n",
       "      <td>17877.79</td>\n",
       "    </tr>\n",
       "    <tr>\n",
       "      <th>13274</th>\n",
       "      <td>2024-08-26</td>\n",
       "      <td>227.2200</td>\n",
       "      <td>213.2350</td>\n",
       "      <td>166.1600</td>\n",
       "      <td>413.6100</td>\n",
       "      <td>326.900</td>\n",
       "      <td>20.1400</td>\n",
       "      <td>17725.76</td>\n",
       "    </tr>\n",
       "    <tr>\n",
       "      <th>13275</th>\n",
       "      <td>2024-08-27</td>\n",
       "      <td>228.0300</td>\n",
       "      <td>209.2100</td>\n",
       "      <td>164.6800</td>\n",
       "      <td>413.8400</td>\n",
       "      <td>326.930</td>\n",
       "      <td>20.0700</td>\n",
       "      <td>17754.82</td>\n",
       "    </tr>\n",
       "  </tbody>\n",
       "</table>\n",
       "<p>2499 rows × 8 columns</p>\n",
       "</div>"
      ],
      "text/plain": [
       "            date      AAPL      TSLA     GOOGL      MSFT     AMGN     INTC  \\\n",
       "10777 2014-10-08   22.5851   17.2853   29.1870   40.5723  111.848  27.0889   \n",
       "10778 2014-10-09   22.6330   17.1340   28.5405   39.7691  109.853  26.5752   \n",
       "10779 2014-10-10   22.5732   15.7940   27.7595   38.1857  109.697  25.2222   \n",
       "10780 2014-10-13   22.3638   14.9727   27.2375   37.8551  106.628  24.8755   \n",
       "10781 2014-10-14   22.1265   15.1373   27.4345   37.9286  105.561  25.4069   \n",
       "...          ...       ...       ...       ...       ...      ...      ...   \n",
       "13271 2024-08-21  226.4000  223.2700  165.8500  424.1400  329.150  21.4100   \n",
       "13272 2024-08-22  224.5300  210.6600  163.8200  415.7800  324.720  20.1200   \n",
       "13273 2024-08-23  226.8400  220.3200  165.6200  416.7900  328.800  20.5400   \n",
       "13274 2024-08-26  227.2200  213.2350  166.1600  413.6100  326.900  20.1400   \n",
       "13275 2024-08-27  228.0300  209.2100  164.6800  413.8400  326.930  20.0700   \n",
       "\n",
       "       NASDAQ_COMP  \n",
       "10777      4468.59  \n",
       "10778      4378.34  \n",
       "10779      4276.24  \n",
       "10780      4213.66  \n",
       "10781      4227.17  \n",
       "...            ...  \n",
       "13271     17918.99  \n",
       "13272     17619.35  \n",
       "13273     17877.79  \n",
       "13274     17725.76  \n",
       "13275     17754.82  \n",
       "\n",
       "[2499 rows x 8 columns]"
      ]
     },
     "execution_count": 6,
     "metadata": {},
     "output_type": "execute_result"
    }
   ],
   "source": [
    "df"
   ]
  },
  {
   "cell_type": "code",
   "execution_count": 7,
   "metadata": {},
   "outputs": [
    {
     "data": {
      "text/plain": [
       "<Axes: >"
      ]
     },
     "execution_count": 7,
     "metadata": {},
     "output_type": "execute_result"
    },
    {
     "data": {
      "image/png": "[encoded data removed]",
      "text/plain": [
       "<Figure size 640x480 with 1 Axes>"
      ]
     },
     "metadata": {},
     "output_type": "display_data"
    }
   ],
   "source": [
    "df[portfolio[:-1]].plot()"
   ]
  },
  {
   "attachments": {},
   "cell_type": "markdown",
   "metadata": {},
   "source": [
    "# Daily Rate of Returns"
   ]
  },
  {
   "cell_type": "code",
   "execution_count": 8,
   "metadata": {},
   "outputs": [],
   "source": [
    "df_daily_ROR = pd.DataFrame()\n",
    "df_daily_ROR[portfolio] = (df[portfolio].diff()/df[portfolio].shift(1))*100\n",
    "df_daily_ROR['date'] = df['date']\n"
   ]
  },
  {
   "cell_type": "code",
   "execution_count": 9,
   "metadata": {},
   "outputs": [
    {
     "data": {
      "text/plain": [
       "<Axes: >"
      ]
     },
     "execution_count": 9,
     "metadata": {},
     "output_type": "execute_result"
    },
    {
     "data": {
      "image/png": "[encoded data removed]",
      "text/plain": [
       "<Figure size 640x480 with 1 Axes>"
      ]
     },
     "metadata": {},
     "output_type": "display_data"
    }
   ],
   "source": [
    "df_daily_ROR[portfolio].plot()"
   ]
  },
  {
   "cell_type": "code",
   "execution_count": 10,
   "metadata": {},
   "outputs": [
    {
     "data": {
      "text/html": [
       "<div>\n",
       "<style scoped>\n",
       "    .dataframe tbody tr th:only-of-type {\n",
       "        vertical-align: middle;\n",
       "    }\n",
       "\n",
       "    .dataframe tbody tr th {\n",
       "        vertical-align: top;\n",
       "    }\n",
       "\n",
       "    .dataframe thead th {\n",
       "        text-align: right;\n",
       "    }\n",
       "</style>\n",
       "<table border=\"1\" class=\"dataframe\">\n",
       "  <thead>\n",
       "    <tr style=\"text-align: right;\">\n",
       "      <th></th>\n",
       "      <th>date</th>\n",
       "      <th>AAPL</th>\n",
       "      <th>TSLA</th>\n",
       "      <th>GOOGL</th>\n",
       "      <th>MSFT</th>\n",
       "      <th>AMGN</th>\n",
       "      <th>INTC</th>\n",
       "      <th>NASDAQ_COMP</th>\n",
       "    </tr>\n",
       "  </thead>\n",
       "  <tbody>\n",
       "    <tr>\n",
       "      <th>10777</th>\n",
       "      <td>2014-10-08</td>\n",
       "      <td>22.5851</td>\n",
       "      <td>17.2853</td>\n",
       "      <td>29.1870</td>\n",
       "      <td>40.5723</td>\n",
       "      <td>111.848</td>\n",
       "      <td>27.0889</td>\n",
       "      <td>4468.59</td>\n",
       "    </tr>\n",
       "    <tr>\n",
       "      <th>10778</th>\n",
       "      <td>2014-10-09</td>\n",
       "      <td>22.6330</td>\n",
       "      <td>17.1340</td>\n",
       "      <td>28.5405</td>\n",
       "      <td>39.7691</td>\n",
       "      <td>109.853</td>\n",
       "      <td>26.5752</td>\n",
       "      <td>4378.34</td>\n",
       "    </tr>\n",
       "    <tr>\n",
       "      <th>10779</th>\n",
       "      <td>2014-10-10</td>\n",
       "      <td>22.5732</td>\n",
       "      <td>15.7940</td>\n",
       "      <td>27.7595</td>\n",
       "      <td>38.1857</td>\n",
       "      <td>109.697</td>\n",
       "      <td>25.2222</td>\n",
       "      <td>4276.24</td>\n",
       "    </tr>\n",
       "    <tr>\n",
       "      <th>10780</th>\n",
       "      <td>2014-10-13</td>\n",
       "      <td>22.3638</td>\n",
       "      <td>14.9727</td>\n",
       "      <td>27.2375</td>\n",
       "      <td>37.8551</td>\n",
       "      <td>106.628</td>\n",
       "      <td>24.8755</td>\n",
       "      <td>4213.66</td>\n",
       "    </tr>\n",
       "    <tr>\n",
       "      <th>10781</th>\n",
       "      <td>2014-10-14</td>\n",
       "      <td>22.1265</td>\n",
       "      <td>15.1373</td>\n",
       "      <td>27.4345</td>\n",
       "      <td>37.9286</td>\n",
       "      <td>105.561</td>\n",
       "      <td>25.4069</td>\n",
       "      <td>4227.17</td>\n",
       "    </tr>\n",
       "    <tr>\n",
       "      <th>...</th>\n",
       "      <td>...</td>\n",
       "      <td>...</td>\n",
       "      <td>...</td>\n",
       "      <td>...</td>\n",
       "      <td>...</td>\n",
       "      <td>...</td>\n",
       "      <td>...</td>\n",
       "      <td>...</td>\n",
       "    </tr>\n",
       "    <tr>\n",
       "      <th>13271</th>\n",
       "      <td>2024-08-21</td>\n",
       "      <td>226.4000</td>\n",
       "      <td>223.2700</td>\n",
       "      <td>165.8500</td>\n",
       "      <td>424.1400</td>\n",
       "      <td>329.150</td>\n",
       "      <td>21.4100</td>\n",
       "      <td>17918.99</td>\n",
       "    </tr>\n",
       "    <tr>\n",
       "      <th>13272</th>\n",
       "      <td>2024-08-22</td>\n",
       "      <td>224.5300</td>\n",
       "      <td>210.6600</td>\n",
       "      <td>163.8200</td>\n",
       "      <td>415.7800</td>\n",
       "      <td>324.720</td>\n",
       "      <td>20.1200</td>\n",
       "      <td>17619.35</td>\n",
       "    </tr>\n",
       "    <tr>\n",
       "      <th>13273</th>\n",
       "      <td>2024-08-23</td>\n",
       "      <td>226.8400</td>\n",
       "      <td>220.3200</td>\n",
       "      <td>165.6200</td>\n",
       "      <td>416.7900</td>\n",
       "      <td>328.800</td>\n",
       "      <td>20.5400</td>\n",
       "      <td>17877.79</td>\n",
       "    </tr>\n",
       "    <tr>\n",
       "      <th>13274</th>\n",
       "      <td>2024-08-26</td>\n",
       "      <td>227.2200</td>\n",
       "      <td>213.2350</td>\n",
       "      <td>166.1600</td>\n",
       "      <td>413.6100</td>\n",
       "      <td>326.900</td>\n",
       "      <td>20.1400</td>\n",
       "      <td>17725.76</td>\n",
       "    </tr>\n",
       "    <tr>\n",
       "      <th>13275</th>\n",
       "      <td>2024-08-27</td>\n",
       "      <td>228.0300</td>\n",
       "      <td>209.2100</td>\n",
       "      <td>164.6800</td>\n",
       "      <td>413.8400</td>\n",
       "      <td>326.930</td>\n",
       "      <td>20.0700</td>\n",
       "      <td>17754.82</td>\n",
       "    </tr>\n",
       "  </tbody>\n",
       "</table>\n",
       "<p>2499 rows × 8 columns</p>\n",
       "</div>"
      ],
      "text/plain": [
       "            date      AAPL      TSLA     GOOGL      MSFT     AMGN     INTC  \\\n",
       "10777 2014-10-08   22.5851   17.2853   29.1870   40.5723  111.848  27.0889   \n",
       "10778 2014-10-09   22.6330   17.1340   28.5405   39.7691  109.853  26.5752   \n",
       "10779 2014-10-10   22.5732   15.7940   27.7595   38.1857  109.697  25.2222   \n",
       "10780 2014-10-13   22.3638   14.9727   27.2375   37.8551  106.628  24.8755   \n",
       "10781 2014-10-14   22.1265   15.1373   27.4345   37.9286  105.561  25.4069   \n",
       "...          ...       ...       ...       ...       ...      ...      ...   \n",
       "13271 2024-08-21  226.4000  223.2700  165.8500  424.1400  329.150  21.4100   \n",
       "13272 2024-08-22  224.5300  210.6600  163.8200  415.7800  324.720  20.1200   \n",
       "13273 2024-08-23  226.8400  220.3200  165.6200  416.7900  328.800  20.5400   \n",
       "13274 2024-08-26  227.2200  213.2350  166.1600  413.6100  326.900  20.1400   \n",
       "13275 2024-08-27  228.0300  209.2100  164.6800  413.8400  326.930  20.0700   \n",
       "\n",
       "       NASDAQ_COMP  \n",
       "10777      4468.59  \n",
       "10778      4378.34  \n",
       "10779      4276.24  \n",
       "10780      4213.66  \n",
       "10781      4227.17  \n",
       "...            ...  \n",
       "13271     17918.99  \n",
       "13272     17619.35  \n",
       "13273     17877.79  \n",
       "13274     17725.76  \n",
       "13275     17754.82  \n",
       "\n",
       "[2499 rows x 8 columns]"
      ]
     },
     "execution_count": 10,
     "metadata": {},
     "output_type": "execute_result"
    }
   ],
   "source": [
    "df"
   ]
  },
  {
   "cell_type": "code",
   "execution_count": 11,
   "metadata": {},
   "outputs": [
    {
     "data": {
      "text/html": [
       "<div>\n",
       "<style scoped>\n",
       "    .dataframe tbody tr th:only-of-type {\n",
       "        vertical-align: middle;\n",
       "    }\n",
       "\n",
       "    .dataframe tbody tr th {\n",
       "        vertical-align: top;\n",
       "    }\n",
       "\n",
       "    .dataframe thead th {\n",
       "        text-align: right;\n",
       "    }\n",
       "</style>\n",
       "<table border=\"1\" class=\"dataframe\">\n",
       "  <thead>\n",
       "    <tr style=\"text-align: right;\">\n",
       "      <th></th>\n",
       "      <th>AAPL</th>\n",
       "      <th>TSLA</th>\n",
       "      <th>GOOGL</th>\n",
       "      <th>MSFT</th>\n",
       "      <th>AMGN</th>\n",
       "      <th>INTC</th>\n",
       "      <th>NASDAQ_COMP</th>\n",
       "      <th>date</th>\n",
       "    </tr>\n",
       "  </thead>\n",
       "  <tbody>\n",
       "    <tr>\n",
       "      <th>10777</th>\n",
       "      <td>NaN</td>\n",
       "      <td>NaN</td>\n",
       "      <td>NaN</td>\n",
       "      <td>NaN</td>\n",
       "      <td>NaN</td>\n",
       "      <td>NaN</td>\n",
       "      <td>NaN</td>\n",
       "      <td>2014-10-08</td>\n",
       "    </tr>\n",
       "    <tr>\n",
       "      <th>10778</th>\n",
       "      <td>0.212087</td>\n",
       "      <td>-0.875310</td>\n",
       "      <td>-2.215027</td>\n",
       "      <td>-1.979676</td>\n",
       "      <td>-1.783671</td>\n",
       "      <td>-1.896349</td>\n",
       "      <td>-2.019653</td>\n",
       "      <td>2014-10-09</td>\n",
       "    </tr>\n",
       "    <tr>\n",
       "      <th>10779</th>\n",
       "      <td>-0.264216</td>\n",
       "      <td>-7.820707</td>\n",
       "      <td>-2.736462</td>\n",
       "      <td>-3.981483</td>\n",
       "      <td>-0.142008</td>\n",
       "      <td>-5.091213</td>\n",
       "      <td>-2.331934</td>\n",
       "      <td>2014-10-10</td>\n",
       "    </tr>\n",
       "    <tr>\n",
       "      <th>10780</th>\n",
       "      <td>-0.927649</td>\n",
       "      <td>-5.200076</td>\n",
       "      <td>-1.880437</td>\n",
       "      <td>-0.865769</td>\n",
       "      <td>-2.797706</td>\n",
       "      <td>-1.374583</td>\n",
       "      <td>-1.463435</td>\n",
       "      <td>2014-10-13</td>\n",
       "    </tr>\n",
       "    <tr>\n",
       "      <th>10781</th>\n",
       "      <td>-1.061090</td>\n",
       "      <td>1.099334</td>\n",
       "      <td>0.723268</td>\n",
       "      <td>0.194161</td>\n",
       "      <td>-1.000675</td>\n",
       "      <td>2.136238</td>\n",
       "      <td>0.320624</td>\n",
       "      <td>2014-10-14</td>\n",
       "    </tr>\n",
       "    <tr>\n",
       "      <th>...</th>\n",
       "      <td>...</td>\n",
       "      <td>...</td>\n",
       "      <td>...</td>\n",
       "      <td>...</td>\n",
       "      <td>...</td>\n",
       "      <td>...</td>\n",
       "      <td>...</td>\n",
       "      <td>...</td>\n",
       "    </tr>\n",
       "    <tr>\n",
       "      <th>13271</th>\n",
       "      <td>-0.048563</td>\n",
       "      <td>0.984654</td>\n",
       "      <td>-0.804450</td>\n",
       "      <td>-0.155367</td>\n",
       "      <td>0.182621</td>\n",
       "      <td>2.000953</td>\n",
       "      <td>0.572770</td>\n",
       "      <td>2024-08-21</td>\n",
       "    </tr>\n",
       "    <tr>\n",
       "      <th>13272</th>\n",
       "      <td>-0.825972</td>\n",
       "      <td>-5.647870</td>\n",
       "      <td>-1.223998</td>\n",
       "      <td>-1.971047</td>\n",
       "      <td>-1.345891</td>\n",
       "      <td>-6.025222</td>\n",
       "      <td>-1.672192</td>\n",
       "      <td>2024-08-22</td>\n",
       "    </tr>\n",
       "    <tr>\n",
       "      <th>13273</th>\n",
       "      <td>1.028816</td>\n",
       "      <td>4.585588</td>\n",
       "      <td>1.098767</td>\n",
       "      <td>0.242917</td>\n",
       "      <td>1.256467</td>\n",
       "      <td>2.087475</td>\n",
       "      <td>1.466796</td>\n",
       "      <td>2024-08-23</td>\n",
       "    </tr>\n",
       "    <tr>\n",
       "      <th>13274</th>\n",
       "      <td>0.167519</td>\n",
       "      <td>-3.215777</td>\n",
       "      <td>0.326048</td>\n",
       "      <td>-0.762974</td>\n",
       "      <td>-0.577859</td>\n",
       "      <td>-1.947420</td>\n",
       "      <td>-0.850385</td>\n",
       "      <td>2024-08-26</td>\n",
       "    </tr>\n",
       "    <tr>\n",
       "      <th>13275</th>\n",
       "      <td>0.356483</td>\n",
       "      <td>-1.887589</td>\n",
       "      <td>-0.890708</td>\n",
       "      <td>0.055608</td>\n",
       "      <td>0.009177</td>\n",
       "      <td>-0.347567</td>\n",
       "      <td>0.163942</td>\n",
       "      <td>2024-08-27</td>\n",
       "    </tr>\n",
       "  </tbody>\n",
       "</table>\n",
       "<p>2499 rows × 8 columns</p>\n",
       "</div>"
      ],
      "text/plain": [
       "           AAPL      TSLA     GOOGL      MSFT      AMGN      INTC  \\\n",
       "10777       NaN       NaN       NaN       NaN       NaN       NaN   \n",
       "10778  0.212087 -0.875310 -2.215027 -1.979676 -1.783671 -1.896349   \n",
       "10779 -0.264216 -7.820707 -2.736462 -3.981483 -0.142008 -5.091213   \n",
       "10780 -0.927649 -5.200076 -1.880437 -0.865769 -2.797706 -1.374583   \n",
       "10781 -1.061090  1.099334  0.723268  0.194161 -1.000675  2.136238   \n",
       "...         ...       ...       ...       ...       ...       ...   \n",
       "13271 -0.048563  0.984654 -0.804450 -0.155367  0.182621  2.000953   \n",
       "13272 -0.825972 -5.647870 -1.223998 -1.971047 -1.345891 -6.025222   \n",
       "13273  1.028816  4.585588  1.098767  0.242917  1.256467  2.087475   \n",
       "13274  0.167519 -3.215777  0.326048 -0.762974 -0.577859 -1.947420   \n",
       "13275  0.356483 -1.887589 -0.890708  0.055608  0.009177 -0.347567   \n",
       "\n",
       "       NASDAQ_COMP       date  \n",
       "10777          NaN 2014-10-08  \n",
       "10778    -2.019653 2014-10-09  \n",
       "10779    -2.331934 2014-10-10  \n",
       "10780    -1.463435 2014-10-13  \n",
       "10781     0.320624 2014-10-14  \n",
       "...            ...        ...  \n",
       "13271     0.572770 2024-08-21  \n",
       "13272    -1.672192 2024-08-22  \n",
       "13273     1.466796 2024-08-23  \n",
       "13274    -0.850385 2024-08-26  \n",
       "13275     0.163942 2024-08-27  \n",
       "\n",
       "[2499 rows x 8 columns]"
      ]
     },
     "execution_count": 11,
     "metadata": {},
     "output_type": "execute_result"
    }
   ],
   "source": [
    "df_daily_ROR"
   ]
  },
  {
   "attachments": {},
   "cell_type": "markdown",
   "metadata": {},
   "source": [
    "# Mean and Covariance of Returns"
   ]
  },
  {
   "cell_type": "code",
   "execution_count": 12,
   "metadata": {},
   "outputs": [],
   "source": [
    "mean_daily_returns, covar_daily_returns = pd.DataFrame(), pd.DataFrame()"
   ]
  },
  {
   "cell_type": "code",
   "execution_count": 13,
   "metadata": {},
   "outputs": [],
   "source": [
    "mean_daily_returns = df_daily_ROR.mean(axis=0)\n",
    "covar_daily_returns[portfolio] = df_daily_ROR[portfolio].cov()"
   ]
  },
  {
   "cell_type": "code",
   "execution_count": 14,
   "metadata": {},
   "outputs": [
    {
     "data": {
      "text/plain": [
       "AAPL                                0.107902\n",
       "TSLA                                0.160526\n",
       "GOOGL                               0.084493\n",
       "MSFT                                0.105763\n",
       "AMGN                                0.054093\n",
       "INTC                                0.011555\n",
       "NASDAQ_COMP                         0.064258\n",
       "date           2019-09-09 18:52:52.148859392\n",
       "dtype: object"
      ]
     },
     "execution_count": 14,
     "metadata": {},
     "output_type": "execute_result"
    }
   ],
   "source": [
    "mean_daily_returns"
   ]
  },
  {
   "cell_type": "code",
   "execution_count": 15,
   "metadata": {},
   "outputs": [
    {
     "data": {
      "text/html": [
       "<div>\n",
       "<style scoped>\n",
       "    .dataframe tbody tr th:only-of-type {\n",
       "        vertical-align: middle;\n",
       "    }\n",
       "\n",
       "    .dataframe tbody tr th {\n",
       "        vertical-align: top;\n",
       "    }\n",
       "\n",
       "    .dataframe thead th {\n",
       "        text-align: right;\n",
       "    }\n",
       "</style>\n",
       "<table border=\"1\" class=\"dataframe\">\n",
       "  <thead>\n",
       "    <tr style=\"text-align: right;\">\n",
       "      <th></th>\n",
       "      <th>AAPL</th>\n",
       "      <th>TSLA</th>\n",
       "      <th>GOOGL</th>\n",
       "      <th>MSFT</th>\n",
       "      <th>AMGN</th>\n",
       "      <th>INTC</th>\n",
       "      <th>NASDAQ_COMP</th>\n",
       "    </tr>\n",
       "  </thead>\n",
       "  <tbody>\n",
       "    <tr>\n",
       "      <th>AAPL</th>\n",
       "      <td>3.242827</td>\n",
       "      <td>2.748514</td>\n",
       "      <td>1.955287</td>\n",
       "      <td>2.112575</td>\n",
       "      <td>1.101872</td>\n",
       "      <td>1.984290</td>\n",
       "      <td>1.939645</td>\n",
       "    </tr>\n",
       "    <tr>\n",
       "      <th>TSLA</th>\n",
       "      <td>2.748514</td>\n",
       "      <td>12.613681</td>\n",
       "      <td>2.328382</td>\n",
       "      <td>2.473484</td>\n",
       "      <td>1.079256</td>\n",
       "      <td>2.548144</td>\n",
       "      <td>2.635140</td>\n",
       "    </tr>\n",
       "    <tr>\n",
       "      <th>GOOGL</th>\n",
       "      <td>1.955287</td>\n",
       "      <td>2.328382</td>\n",
       "      <td>3.194411</td>\n",
       "      <td>2.196766</td>\n",
       "      <td>1.006498</td>\n",
       "      <td>1.826025</td>\n",
       "      <td>1.875324</td>\n",
       "    </tr>\n",
       "    <tr>\n",
       "      <th>MSFT</th>\n",
       "      <td>2.112575</td>\n",
       "      <td>2.473484</td>\n",
       "      <td>2.196766</td>\n",
       "      <td>2.944963</td>\n",
       "      <td>1.118407</td>\n",
       "      <td>2.095842</td>\n",
       "      <td>1.946314</td>\n",
       "    </tr>\n",
       "    <tr>\n",
       "      <th>AMGN</th>\n",
       "      <td>1.101872</td>\n",
       "      <td>1.079256</td>\n",
       "      <td>1.006498</td>\n",
       "      <td>1.118407</td>\n",
       "      <td>2.458170</td>\n",
       "      <td>1.233372</td>\n",
       "      <td>1.066559</td>\n",
       "    </tr>\n",
       "    <tr>\n",
       "      <th>INTC</th>\n",
       "      <td>1.984290</td>\n",
       "      <td>2.548144</td>\n",
       "      <td>1.826025</td>\n",
       "      <td>2.095842</td>\n",
       "      <td>1.233372</td>\n",
       "      <td>4.872780</td>\n",
       "      <td>1.918770</td>\n",
       "    </tr>\n",
       "    <tr>\n",
       "      <th>NASDAQ_COMP</th>\n",
       "      <td>1.939645</td>\n",
       "      <td>2.635140</td>\n",
       "      <td>1.875324</td>\n",
       "      <td>1.946314</td>\n",
       "      <td>1.066559</td>\n",
       "      <td>1.918770</td>\n",
       "      <td>1.796255</td>\n",
       "    </tr>\n",
       "  </tbody>\n",
       "</table>\n",
       "</div>"
      ],
      "text/plain": [
       "                 AAPL       TSLA     GOOGL      MSFT      AMGN      INTC  \\\n",
       "AAPL         3.242827   2.748514  1.955287  2.112575  1.101872  1.984290   \n",
       "TSLA         2.748514  12.613681  2.328382  2.473484  1.079256  2.548144   \n",
       "GOOGL        1.955287   2.328382  3.194411  2.196766  1.006498  1.826025   \n",
       "MSFT         2.112575   2.473484  2.196766  2.944963  1.118407  2.095842   \n",
       "AMGN         1.101872   1.079256  1.006498  1.118407  2.458170  1.233372   \n",
       "INTC         1.984290   2.548144  1.826025  2.095842  1.233372  4.872780   \n",
       "NASDAQ_COMP  1.939645   2.635140  1.875324  1.946314  1.066559  1.918770   \n",
       "\n",
       "             NASDAQ_COMP  \n",
       "AAPL            1.939645  \n",
       "TSLA            2.635140  \n",
       "GOOGL           1.875324  \n",
       "MSFT            1.946314  \n",
       "AMGN            1.066559  \n",
       "INTC            1.918770  \n",
       "NASDAQ_COMP     1.796255  "
      ]
     },
     "execution_count": 15,
     "metadata": {},
     "output_type": "execute_result"
    }
   ],
   "source": [
    "covar_daily_returns\n",
    "\n",
    "#the diagonal represents the variance of market returns or the volatility. This is a measure of how much the stock price varies w.r.t. the stock average daily returns"
   ]
  },
  {
   "attachments": {},
   "cell_type": "markdown",
   "metadata": {},
   "source": [
    "# Financial Elasticity (Beta)"
   ]
  },
  {
   "cell_type": "code",
   "execution_count": 16,
   "metadata": {},
   "outputs": [],
   "source": [
    "beta = pd.Series(covar_daily_returns[market])/df_daily_ROR[market].var(axis=0)"
   ]
  },
  {
   "cell_type": "code",
   "execution_count": 17,
   "metadata": {},
   "outputs": [
    {
     "data": {
      "text/plain": [
       "AAPL           1.079827\n",
       "TSLA           1.467019\n",
       "GOOGL          1.044019\n",
       "MSFT           1.083540\n",
       "AMGN           0.593768\n",
       "INTC           1.068206\n",
       "NASDAQ_COMP    1.000000\n",
       "Name: NASDAQ_COMP, dtype: float64"
      ]
     },
     "execution_count": 17,
     "metadata": {},
     "output_type": "execute_result"
    }
   ],
   "source": [
    "beta"
   ]
  },
  {
   "attachments": {},
   "cell_type": "markdown",
   "metadata": {},
   "source": [
    "# Portfolio Risk & Returns"
   ]
  },
  {
   "cell_type": "code",
   "execution_count": 18,
   "metadata": {},
   "outputs": [],
   "source": [
    "#investment weights (must sum to 1)\n",
    "w = data =[.1, .2, .1, .2, 0.2, 0.2]\n"
   ]
  },
  {
   "cell_type": "code",
   "execution_count": 19,
   "metadata": {},
   "outputs": [],
   "source": [
    "stocks = portfolio[:-1] #always put market index as last entry in portfolio \n",
    "\n",
    "n = len(stocks) #number of stocks\n",
    "trading_days = 251 #number of trading days"
   ]
  },
  {
   "cell_type": "code",
   "execution_count": 20,
   "metadata": {},
   "outputs": [
    {
     "data": {
      "text/plain": [
       "[1.0798270609622505,\n",
       " 1.4670185868149597,\n",
       " 1.0440186918958183,\n",
       " 1.0835400316809356,\n",
       " 0.593767966775642,\n",
       " 1.068205771568767]"
      ]
     },
     "execution_count": 20,
     "metadata": {},
     "output_type": "execute_result"
    }
   ],
   "source": [
    "beta[:n].to_list()"
   ]
  },
  {
   "cell_type": "code",
   "execution_count": 21,
   "metadata": {},
   "outputs": [
    {
     "data": {
      "text/plain": [
       "[0.10790209648277078,\n",
       " 0.16052627415523618,\n",
       " 0.08449301923111063,\n",
       " 0.10576299746335385,\n",
       " 0.05409333613728726,\n",
       " 0.011555276596729733]"
      ]
     },
     "execution_count": 21,
     "metadata": {},
     "output_type": "execute_result"
    }
   ],
   "source": [
    "mean_daily_returns[:n].to_list()"
   ]
  },
  {
   "cell_type": "code",
   "execution_count": 22,
   "metadata": {},
   "outputs": [],
   "source": [
    "import numpy as np\n",
    "\n",
    "portfolio_daily_return = np.matmul(w, mean_daily_returns[:n].to_list()).sum()"
   ]
  },
  {
   "cell_type": "code",
   "execution_count": 23,
   "metadata": {},
   "outputs": [
    {
     "data": {
      "text/plain": [
       "21.492399198919298"
      ]
     },
     "execution_count": 23,
     "metadata": {},
     "output_type": "execute_result"
    }
   ],
   "source": [
    "annualized_portfolio_return = portfolio_daily_return * trading_days\n",
    "annualized_portfolio_return"
   ]
  },
  {
   "cell_type": "code",
   "execution_count": 24,
   "metadata": {},
   "outputs": [],
   "source": [
    "portfolio_risk = np.sqrt(np.matmul(np.matmul(w, covar_daily_returns.iloc[:-1, :-1].to_numpy()), np.transpose(w)))\n"
   ]
  },
  {
   "cell_type": "code",
   "execution_count": 25,
   "metadata": {},
   "outputs": [
    {
     "data": {
      "text/plain": [
       "24.925086101532607"
      ]
     },
     "execution_count": 25,
     "metadata": {},
     "output_type": "execute_result"
    }
   ],
   "source": [
    "annualized_portfolio_risk = np.sqrt(trading_days*np.matmul(np.matmul(w, covar_daily_returns.iloc[:-1, :-1].to_numpy()), np.transpose(w)))\n",
    "annualized_portfolio_risk"
   ]
  },
  {
   "attachments": {},
   "cell_type": "markdown",
   "metadata": {},
   "source": [
    "# Diversification Index"
   ]
  },
  {
   "cell_type": "code",
   "execution_count": 26,
   "metadata": {},
   "outputs": [
    {
     "data": {
      "text/plain": [
       "1.3776505062850795"
      ]
     },
     "execution_count": 26,
     "metadata": {},
     "output_type": "execute_result"
    }
   ],
   "source": [
    "diver_index = np.matmul(df_daily_ROR[stocks].std().to_numpy(), np.transpose(w))/np.sqrt(np.matmul(w, np.matmul(covar_daily_returns.iloc[:-1, :-1].to_numpy(), np.transpose(w))))\n",
    "diver_index"
   ]
  },
  {
   "attachments": {},
   "cell_type": "markdown",
   "metadata": {},
   "source": [
    "# K-Means Clustering"
   ]
  },
  {
   "cell_type": "code",
   "execution_count": 27,
   "metadata": {},
   "outputs": [
    {
     "data": {
      "text/plain": [
       "array([[0.10790209648277078],\n",
       "       [0.16052627415523618],\n",
       "       [0.08449301923111063],\n",
       "       [0.10576299746335385],\n",
       "       [0.05409333613728726],\n",
       "       [0.011555276596729733]], dtype=object)"
      ]
     },
     "execution_count": 27,
     "metadata": {},
     "output_type": "execute_result"
    }
   ],
   "source": [
    "mean_daily_returns[stocks].to_numpy().reshape(len(w), 1)"
   ]
  },
  {
   "cell_type": "code",
   "execution_count": 28,
   "metadata": {},
   "outputs": [
    {
     "data": {
      "text/plain": [
       "array([[ 3.2428268 ,  2.74851387,  1.95528705,  2.11257456,  1.10187212,\n",
       "         1.98428961],\n",
       "       [ 2.74851387, 12.61368115,  2.32838193,  2.47348383,  1.07925571,\n",
       "         2.54814398],\n",
       "       [ 1.95528705,  2.32838193,  3.19441063,  2.19676575,  1.00649808,\n",
       "         1.82602546],\n",
       "       [ 2.11257456,  2.47348383,  2.19676575,  2.94496289,  1.11840692,\n",
       "         2.09584176],\n",
       "       [ 1.10187212,  1.07925571,  1.00649808,  1.11840692,  2.45817038,\n",
       "         1.23337245],\n",
       "       [ 1.98428961,  2.54814398,  1.82602546,  2.09584176,  1.23337245,\n",
       "         4.87277983]])"
      ]
     },
     "execution_count": 28,
     "metadata": {},
     "output_type": "execute_result"
    }
   ],
   "source": [
    "covar_daily_returns.iloc[:-1, :-1].to_numpy()"
   ]
  },
  {
   "cell_type": "code",
   "execution_count": 70,
   "metadata": {},
   "outputs": [
    {
     "name": "stdout",
     "output_type": "stream",
     "text": [
      "Centroids:\n",
      " [[8.80628623e-02 2.10314013e+00 2.15740883e+00 2.08824038e+00\n",
      "  2.09317753e+00 1.42123687e+00 1.78488232e+00]\n",
      " [1.60526274e-01 2.74851387e+00 1.26136811e+01 2.32838193e+00\n",
      "  2.47348383e+00 1.07925571e+00 2.54814398e+00]\n",
      " [1.15552766e-02 1.98428961e+00 2.54814398e+00 1.82602546e+00\n",
      "  2.09584176e+00 1.23337245e+00 4.87277983e+00]]\n",
      "Labels:\n",
      " [0 1 0 0 0 2]\n"
     ]
    }
   ],
   "source": [
    "from sklearn.cluster import KMeans\n",
    "\n",
    "#set seed for repeatability\n",
    "np.random.seed(100)\n",
    "num_clusters = 3\n",
    "\n",
    "#use mean return and covariance as input features for KMeans clusters\n",
    "features = np.concatenate([mean_daily_returns[stocks].to_numpy().reshape(len(w), 1), covar_daily_returns.iloc[:-1, :-1].to_numpy()], axis=1)\n",
    "cluster = KMeans(algorithm='lloyd', max_iter=100, n_clusters=num_clusters)\n",
    "cluster.fit(features)\n",
    "\n",
    "\n",
    "centroids = cluster.cluster_centers_\n",
    "labels = cluster.labels_\n",
    "print('Centroids:\\n', centroids)\n",
    "print('Labels:\\n', labels)"
   ]
  },
  {
   "cell_type": "code",
   "execution_count": 93,
   "metadata": {},
   "outputs": [
    {
     "name": "stdout",
     "output_type": "stream",
     "text": [
      "Cluster 0\n",
      "('AAPL', 'GOOGL', 'MSFT', 'AMGN')\n",
      "Cluster 1\n",
      "TSLA\n",
      "Cluster 2\n",
      "INTC\n"
     ]
    }
   ],
   "source": [
    "from operator import itemgetter\n",
    "for i in range(num_clusters):\n",
    "    print('Cluster', i)\n",
    "    index = np.where(labels == i)[0]\n",
    "    print(itemgetter(*index)(stocks))\n",
    "    "
   ]
  },
  {
   "cell_type": "code",
   "execution_count": 92,
   "metadata": {},
   "outputs": [
    {
     "name": "stdout",
     "output_type": "stream",
     "text": [
      "('TSLA', 'MSFT')\n"
     ]
    }
   ],
   "source": [
    "\n",
    "\n"
   ]
  }
 ],
 "metadata": {
  "kernelspec": {
   "display_name": "finance",
   "language": "python",
   "name": "python3"
  },
  "language_info": {
   "codemirror_mode": {
    "name": "ipython",
    "version": 3
   },
   "file_extension": ".py",
   "mimetype": "text/x-python",
   "name": "python",
   "nbconvert_exporter": "python",
   "pygments_lexer": "ipython3",
   "version": "3.12.7"
  },
  "orig_nbformat": 4
 },
 "nbformat": 4,
 "nbformat_minor": 2
}
